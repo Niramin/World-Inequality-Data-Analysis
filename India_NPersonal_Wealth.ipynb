{
 "cells": [
  {
   "cell_type": "code",
   "execution_count": 2,
   "metadata": {},
   "outputs": [],
   "source": [
    "import numpy as np\n",
    "import pandas as pd\n",
    "import seaborn as sns\n",
    "import matplotlib.pyplot as plt\n",
    "import re\n",
    "\n",
    "sns.set(color_codes=True)\n",
    "\n"
   ]
  },
  {
   "cell_type": "markdown",
   "metadata": {},
   "source": [
    "Importing the two data sets as csv files,\n",
    "din--> data IN\n",
    "dinm--> metadata IN"
   ]
  },
  {
   "cell_type": "code",
   "execution_count": 3,
   "metadata": {},
   "outputs": [],
   "source": [
    "din=pd.read_csv(r\"C:\\Users\\Shashwat Ratna\\Desktop\\WID\\WID_data_IN.csv\",sep=\";\",encoding=\"utf-8\")\n",
    "dinm=pd.read_csv(r\"C:\\Users\\Shashwat Ratna\\Desktop\\WID\\WID_metadata_IN.csv\",sep=\";\",encoding=\"cp1252\")"
   ]
  },
  {
   "cell_type": "markdown",
   "metadata": {},
   "source": [
    "Analysis"
   ]
  },
  {
   "cell_type": "code",
   "execution_count": 4,
   "metadata": {},
   "outputs": [
    {
     "data": {
      "text/html": [
       "<div>\n",
       "<style scoped>\n",
       "    .dataframe tbody tr th:only-of-type {\n",
       "        vertical-align: middle;\n",
       "    }\n",
       "\n",
       "    .dataframe tbody tr th {\n",
       "        vertical-align: top;\n",
       "    }\n",
       "\n",
       "    .dataframe thead th {\n",
       "        text-align: right;\n",
       "    }\n",
       "</style>\n",
       "<table border=\"1\" class=\"dataframe\">\n",
       "  <thead>\n",
       "    <tr style=\"text-align: right;\">\n",
       "      <th></th>\n",
       "      <th>country</th>\n",
       "      <th>variable</th>\n",
       "      <th>age</th>\n",
       "      <th>pop</th>\n",
       "      <th>countryname</th>\n",
       "      <th>shortname</th>\n",
       "      <th>simpledes</th>\n",
       "      <th>technicaldes</th>\n",
       "      <th>shorttype</th>\n",
       "      <th>longtype</th>\n",
       "      <th>shortpop</th>\n",
       "      <th>longpop</th>\n",
       "      <th>shortage</th>\n",
       "      <th>longage</th>\n",
       "      <th>unit</th>\n",
       "      <th>source</th>\n",
       "      <th>method</th>\n",
       "    </tr>\n",
       "  </thead>\n",
       "  <tbody>\n",
       "    <tr>\n",
       "      <th>0</th>\n",
       "      <td>IN</td>\n",
       "      <td>acfccoi992</td>\n",
       "      <td>992</td>\n",
       "      <td>i</td>\n",
       "      <td>India</td>\n",
       "      <td>Consumption of fixed capital of corporations</td>\n",
       "      <td>NaN</td>\n",
       "      <td>NaN</td>\n",
       "      <td>Average</td>\n",
       "      <td>Average income or wealth between two percentil...</td>\n",
       "      <td>individuals</td>\n",
       "      <td>The base unit is the individual (rather than t...</td>\n",
       "      <td>Adults</td>\n",
       "      <td>The population is comprised of individuals ove...</td>\n",
       "      <td>INR</td>\n",
       "      <td>See [URL][URL_TEXT]DINA guidelines[/URL_TEXT][...</td>\n",
       "      <td>WID.world estimations as a proportion of GDP b...</td>\n",
       "    </tr>\n",
       "    <tr>\n",
       "      <th>1</th>\n",
       "      <td>IN</td>\n",
       "      <td>acfccoi999</td>\n",
       "      <td>999</td>\n",
       "      <td>i</td>\n",
       "      <td>India</td>\n",
       "      <td>Consumption of fixed capital of corporations</td>\n",
       "      <td>NaN</td>\n",
       "      <td>NaN</td>\n",
       "      <td>Average</td>\n",
       "      <td>Average income or wealth between two percentil...</td>\n",
       "      <td>individuals</td>\n",
       "      <td>The base unit is the individual (rather than t...</td>\n",
       "      <td>All Ages</td>\n",
       "      <td>The population is comprised of individuals of ...</td>\n",
       "      <td>INR</td>\n",
       "      <td>See [URL][URL_TEXT]DINA guidelines[/URL_TEXT][...</td>\n",
       "      <td>WID.world estimations as a proportion of GDP b...</td>\n",
       "    </tr>\n",
       "  </tbody>\n",
       "</table>\n",
       "</div>"
      ],
      "text/plain": [
       "  country    variable  age pop countryname  \\\n",
       "0      IN  acfccoi992  992   i       India   \n",
       "1      IN  acfccoi999  999   i       India   \n",
       "\n",
       "                                      shortname simpledes technicaldes  \\\n",
       "0  Consumption of fixed capital of corporations       NaN          NaN   \n",
       "1  Consumption of fixed capital of corporations       NaN          NaN   \n",
       "\n",
       "  shorttype                                           longtype     shortpop  \\\n",
       "0   Average  Average income or wealth between two percentil...  individuals   \n",
       "1   Average  Average income or wealth between two percentil...  individuals   \n",
       "\n",
       "                                             longpop  shortage  \\\n",
       "0  The base unit is the individual (rather than t...    Adults   \n",
       "1  The base unit is the individual (rather than t...  All Ages   \n",
       "\n",
       "                                             longage unit  \\\n",
       "0  The population is comprised of individuals ove...  INR   \n",
       "1  The population is comprised of individuals of ...  INR   \n",
       "\n",
       "                                              source  \\\n",
       "0  See [URL][URL_TEXT]DINA guidelines[/URL_TEXT][...   \n",
       "1  See [URL][URL_TEXT]DINA guidelines[/URL_TEXT][...   \n",
       "\n",
       "                                              method  \n",
       "0  WID.world estimations as a proportion of GDP b...  \n",
       "1  WID.world estimations as a proportion of GDP b...  "
      ]
     },
     "execution_count": 4,
     "metadata": {},
     "output_type": "execute_result"
    }
   ],
   "source": [
    "dinm.head(2)\n"
   ]
  },
  {
   "cell_type": "code",
   "execution_count": 5,
   "metadata": {},
   "outputs": [
    {
     "data": {
      "text/html": [
       "<div>\n",
       "<style scoped>\n",
       "    .dataframe tbody tr th:only-of-type {\n",
       "        vertical-align: middle;\n",
       "    }\n",
       "\n",
       "    .dataframe tbody tr th {\n",
       "        vertical-align: top;\n",
       "    }\n",
       "\n",
       "    .dataframe thead th {\n",
       "        text-align: right;\n",
       "    }\n",
       "</style>\n",
       "<table border=\"1\" class=\"dataframe\">\n",
       "  <thead>\n",
       "    <tr style=\"text-align: right;\">\n",
       "      <th></th>\n",
       "      <th>country</th>\n",
       "      <th>variable</th>\n",
       "      <th>percentile</th>\n",
       "      <th>year</th>\n",
       "      <th>value</th>\n",
       "      <th>age</th>\n",
       "      <th>pop</th>\n",
       "    </tr>\n",
       "  </thead>\n",
       "  <tbody>\n",
       "    <tr>\n",
       "      <th>0</th>\n",
       "      <td>IN</td>\n",
       "      <td>afiinc992j</td>\n",
       "      <td>p37p100</td>\n",
       "      <td>1951</td>\n",
       "      <td>33916.0</td>\n",
       "      <td>992</td>\n",
       "      <td>j</td>\n",
       "    </tr>\n",
       "    <tr>\n",
       "      <th>1</th>\n",
       "      <td>IN</td>\n",
       "      <td>afiinc992j</td>\n",
       "      <td>p37p100</td>\n",
       "      <td>1952</td>\n",
       "      <td>30793.1</td>\n",
       "      <td>992</td>\n",
       "      <td>j</td>\n",
       "    </tr>\n",
       "    <tr>\n",
       "      <th>2</th>\n",
       "      <td>IN</td>\n",
       "      <td>afiinc992j</td>\n",
       "      <td>p37p100</td>\n",
       "      <td>1953</td>\n",
       "      <td>36714.7</td>\n",
       "      <td>992</td>\n",
       "      <td>j</td>\n",
       "    </tr>\n",
       "    <tr>\n",
       "      <th>3</th>\n",
       "      <td>IN</td>\n",
       "      <td>afiinc992j</td>\n",
       "      <td>p37p100</td>\n",
       "      <td>1954</td>\n",
       "      <td>28677.6</td>\n",
       "      <td>992</td>\n",
       "      <td>j</td>\n",
       "    </tr>\n",
       "    <tr>\n",
       "      <th>4</th>\n",
       "      <td>IN</td>\n",
       "      <td>afiinc992j</td>\n",
       "      <td>p37p100</td>\n",
       "      <td>1955</td>\n",
       "      <td>35383.0</td>\n",
       "      <td>992</td>\n",
       "      <td>j</td>\n",
       "    </tr>\n",
       "  </tbody>\n",
       "</table>\n",
       "</div>"
      ],
      "text/plain": [
       "  country    variable percentile  year    value  age pop\n",
       "0      IN  afiinc992j    p37p100  1951  33916.0  992   j\n",
       "1      IN  afiinc992j    p37p100  1952  30793.1  992   j\n",
       "2      IN  afiinc992j    p37p100  1953  36714.7  992   j\n",
       "3      IN  afiinc992j    p37p100  1954  28677.6  992   j\n",
       "4      IN  afiinc992j    p37p100  1955  35383.0  992   j"
      ]
     },
     "execution_count": 5,
     "metadata": {},
     "output_type": "execute_result"
    }
   ],
   "source": [
    "din.head()"
   ]
  },
  {
   "cell_type": "code",
   "execution_count": 6,
   "metadata": {},
   "outputs": [
    {
     "data": {
      "text/plain": [
       "country         object\n",
       "variable        object\n",
       "age              int64\n",
       "pop             object\n",
       "countryname     object\n",
       "shortname       object\n",
       "simpledes       object\n",
       "technicaldes    object\n",
       "shorttype       object\n",
       "longtype        object\n",
       "shortpop        object\n",
       "longpop         object\n",
       "shortage        object\n",
       "longage         object\n",
       "unit            object\n",
       "source          object\n",
       "method          object\n",
       "dtype: object"
      ]
     },
     "execution_count": 6,
     "metadata": {},
     "output_type": "execute_result"
    }
   ],
   "source": [
    "dinm.dtypes"
   ]
  },
  {
   "cell_type": "code",
   "execution_count": 7,
   "metadata": {},
   "outputs": [
    {
     "data": {
      "text/html": [
       "<div>\n",
       "<style scoped>\n",
       "    .dataframe tbody tr th:only-of-type {\n",
       "        vertical-align: middle;\n",
       "    }\n",
       "\n",
       "    .dataframe tbody tr th {\n",
       "        vertical-align: top;\n",
       "    }\n",
       "\n",
       "    .dataframe thead th {\n",
       "        text-align: right;\n",
       "    }\n",
       "</style>\n",
       "<table border=\"1\" class=\"dataframe\">\n",
       "  <thead>\n",
       "    <tr style=\"text-align: right;\">\n",
       "      <th></th>\n",
       "      <th>country</th>\n",
       "      <th>variable</th>\n",
       "      <th>percentile</th>\n",
       "      <th>year</th>\n",
       "      <th>value</th>\n",
       "      <th>age</th>\n",
       "      <th>pop</th>\n",
       "    </tr>\n",
       "  </thead>\n",
       "  <tbody>\n",
       "    <tr>\n",
       "      <th>206</th>\n",
       "      <td>IN</td>\n",
       "      <td>ahweal992j</td>\n",
       "      <td>p55p100</td>\n",
       "      <td>1961</td>\n",
       "      <td>2.445343e+05</td>\n",
       "      <td>992</td>\n",
       "      <td>j</td>\n",
       "    </tr>\n",
       "    <tr>\n",
       "      <th>207</th>\n",
       "      <td>IN</td>\n",
       "      <td>ahweal992j</td>\n",
       "      <td>p55p100</td>\n",
       "      <td>1971</td>\n",
       "      <td>2.808151e+05</td>\n",
       "      <td>992</td>\n",
       "      <td>j</td>\n",
       "    </tr>\n",
       "    <tr>\n",
       "      <th>208</th>\n",
       "      <td>IN</td>\n",
       "      <td>ahweal992j</td>\n",
       "      <td>p55p100</td>\n",
       "      <td>1981</td>\n",
       "      <td>3.936996e+05</td>\n",
       "      <td>992</td>\n",
       "      <td>j</td>\n",
       "    </tr>\n",
       "    <tr>\n",
       "      <th>209</th>\n",
       "      <td>IN</td>\n",
       "      <td>ahweal992j</td>\n",
       "      <td>p55p100</td>\n",
       "      <td>1991</td>\n",
       "      <td>5.467016e+05</td>\n",
       "      <td>992</td>\n",
       "      <td>j</td>\n",
       "    </tr>\n",
       "    <tr>\n",
       "      <th>210</th>\n",
       "      <td>IN</td>\n",
       "      <td>ahweal992j</td>\n",
       "      <td>p55p100</td>\n",
       "      <td>1995</td>\n",
       "      <td>5.385142e+05</td>\n",
       "      <td>992</td>\n",
       "      <td>j</td>\n",
       "    </tr>\n",
       "    <tr>\n",
       "      <th>...</th>\n",
       "      <td>...</td>\n",
       "      <td>...</td>\n",
       "      <td>...</td>\n",
       "      <td>...</td>\n",
       "      <td>...</td>\n",
       "      <td>...</td>\n",
       "      <td>...</td>\n",
       "    </tr>\n",
       "    <tr>\n",
       "      <th>217452</th>\n",
       "      <td>IN</td>\n",
       "      <td>ahweal992j</td>\n",
       "      <td>p99.999p100</td>\n",
       "      <td>2017</td>\n",
       "      <td>7.691136e+09</td>\n",
       "      <td>992</td>\n",
       "      <td>j</td>\n",
       "    </tr>\n",
       "    <tr>\n",
       "      <th>217453</th>\n",
       "      <td>IN</td>\n",
       "      <td>ahweal992j</td>\n",
       "      <td>p99.999p100</td>\n",
       "      <td>2018</td>\n",
       "      <td>8.738768e+09</td>\n",
       "      <td>992</td>\n",
       "      <td>j</td>\n",
       "    </tr>\n",
       "    <tr>\n",
       "      <th>217454</th>\n",
       "      <td>IN</td>\n",
       "      <td>ahweal992j</td>\n",
       "      <td>p99.999p100</td>\n",
       "      <td>2019</td>\n",
       "      <td>8.341740e+09</td>\n",
       "      <td>992</td>\n",
       "      <td>j</td>\n",
       "    </tr>\n",
       "    <tr>\n",
       "      <th>217455</th>\n",
       "      <td>IN</td>\n",
       "      <td>ahweal992j</td>\n",
       "      <td>p99.999p100</td>\n",
       "      <td>2020</td>\n",
       "      <td>7.244621e+09</td>\n",
       "      <td>992</td>\n",
       "      <td>j</td>\n",
       "    </tr>\n",
       "    <tr>\n",
       "      <th>217456</th>\n",
       "      <td>IN</td>\n",
       "      <td>ahweal992j</td>\n",
       "      <td>p99.999p100</td>\n",
       "      <td>2021</td>\n",
       "      <td>9.924710e+09</td>\n",
       "      <td>992</td>\n",
       "      <td>j</td>\n",
       "    </tr>\n",
       "  </tbody>\n",
       "</table>\n",
       "<p>8246 rows × 7 columns</p>\n",
       "</div>"
      ],
      "text/plain": [
       "       country    variable   percentile  year         value  age pop\n",
       "206         IN  ahweal992j      p55p100  1961  2.445343e+05  992   j\n",
       "207         IN  ahweal992j      p55p100  1971  2.808151e+05  992   j\n",
       "208         IN  ahweal992j      p55p100  1981  3.936996e+05  992   j\n",
       "209         IN  ahweal992j      p55p100  1991  5.467016e+05  992   j\n",
       "210         IN  ahweal992j      p55p100  1995  5.385142e+05  992   j\n",
       "...        ...         ...          ...   ...           ...  ...  ..\n",
       "217452      IN  ahweal992j  p99.999p100  2017  7.691136e+09  992   j\n",
       "217453      IN  ahweal992j  p99.999p100  2018  8.738768e+09  992   j\n",
       "217454      IN  ahweal992j  p99.999p100  2019  8.341740e+09  992   j\n",
       "217455      IN  ahweal992j  p99.999p100  2020  7.244621e+09  992   j\n",
       "217456      IN  ahweal992j  p99.999p100  2021  9.924710e+09  992   j\n",
       "\n",
       "[8246 rows x 7 columns]"
      ]
     },
     "execution_count": 7,
     "metadata": {},
     "output_type": "execute_result"
    }
   ],
   "source": [
    "din[din[\"variable\"]==\"ahweal992j\"]"
   ]
  },
  {
   "cell_type": "markdown",
   "metadata": {},
   "source": [
    "USING ahweal992j Data now. Some points to keep in mind,\n",
    "Country India\n",
    "Country Code IN\n",
    "Short name of variable Net personal wealth\n",
    "Type(s) of variableAverage\n",
    "\n",
    "Years 1961-2012\n",
    "Age groups Aggregate on population aged over 20\n",
    "Population categoriesEqual-split adults\n",
    "WID.world code ahweal992j\n",
    "PercentilesAll g-percentiles\n",
    "Years available for these percentilesPercentiles available for all years\n",
    "Simple description of variable:                                                                                                       Net personal wealth is the total value of non-financial and financial assets (housing, land, deposits, bonds, equities, etc.) held by households, minus their debts. . The personal or household sector - in the national accounts sense - includes all households and private individuals (including those living in institutions), as well as unincorporated enterprises whose accounts are not separated from those of the households who own them.\n",
    "Technical description of variable[Net personal wealth]=[Personal non-financial assets]+[Personal financial assets]-[Personal debt]\n",
    "Method used for computation :\n",
    "In 1961 and 1971 data covers rural areas only. Net wealth is reported since 1981. In 1971, net wealth is estimated using the liabilies at the bracket level (assuming individuals remain in the same bracket). In 1961, liabilities are estimated assuming the liability/gross wealth ratios at the bracket level from 1971, and using the 1971 proportions of individuals having any kind of liability. In 2002 and 2012 series are corrected using Forbes lists, and the top of the survey distribution is replaced by a Pareto distribution.\n",
    "Source                                                                                                                                     Nitin Kumar Bharti (2018), Wealth Inequality, Class and Caste in India"
   ]
  },
  {
   "cell_type": "code",
   "execution_count": 8,
   "metadata": {},
   "outputs": [
    {
     "name": "stdout",
     "output_type": "stream",
     "text": [
      "True\n"
     ]
    }
   ],
   "source": [
    "cur=din[din[\"variable\"]==\"ahweal992j\"]\n",
    "l=cur.percentile.unique()\n",
    "#p0p50 is in l\n",
    "#p9p100\n",
    "print(\"p0p50\" in l)"
   ]
  },
  {
   "cell_type": "markdown",
   "metadata": {},
   "source": [
    "Thus we will compare Net personal wealth for the group(bottom 50th to 100th percentile) and the group(top 10th\n",
    "percentile)"
   ]
  },
  {
   "cell_type": "code",
   "execution_count": 9,
   "metadata": {},
   "outputs": [
    {
     "name": "stdout",
     "output_type": "stream",
     "text": [
      "          variable percentile  year      value\n",
      "37913   ahweal992j    p90p100  1961   559714.5\n",
      "37914   ahweal992j    p90p100  1971   625385.0\n",
      "37915   ahweal992j    p90p100  1981   924923.9\n",
      "37916   ahweal992j    p90p100  1991  1400968.4\n",
      "37917   ahweal992j    p90p100  1995  1476209.6\n",
      "...            ...        ...   ...        ...\n",
      "130147  ahweal992j      p0p50  2017   111565.0\n",
      "130148  ahweal992j      p0p50  2018   113138.4\n",
      "130149  ahweal992j      p0p50  2019   116439.6\n",
      "130150  ahweal992j      p0p50  2020   104955.8\n",
      "130151  ahweal992j      p0p50  2021   116061.3\n",
      "\n",
      "[62 rows x 4 columns]\n"
     ]
    }
   ],
   "source": [
    "curt=cur.drop([\"country\",\"age\",\"pop\"],axis=1)\n",
    "curt=curt[(curt[\"percentile\"]==\"p90p100\") | (curt[\"percentile\"]==\"p0p50\") ]\n",
    "print(curt)"
   ]
  },
  {
   "cell_type": "code",
   "execution_count": 10,
   "metadata": {},
   "outputs": [
    {
     "name": "stdout",
     "output_type": "stream",
     "text": [
      "       percentile  year      value\n",
      "37913     p90p100  1961   559714.5\n",
      "37914     p90p100  1971   625385.0\n",
      "37915     p90p100  1981   924923.9\n",
      "37916     p90p100  1991  1400968.4\n",
      "37917     p90p100  1995  1476209.6\n",
      "...           ...   ...        ...\n",
      "130147      p0p50  2017   111565.0\n",
      "130148      p0p50  2018   113138.4\n",
      "130149      p0p50  2019   116439.6\n",
      "130150      p0p50  2020   104955.8\n",
      "130151      p0p50  2021   116061.3\n",
      "\n",
      "[62 rows x 3 columns]\n"
     ]
    }
   ],
   "source": [
    "curt=curt.drop(\"variable\",axis=1)\n",
    "print(curt)\n"
   ]
  },
  {
   "cell_type": "code",
   "execution_count": 11,
   "metadata": {},
   "outputs": [
    {
     "name": "stdout",
     "output_type": "stream",
     "text": [
      "percentile     p0p50    p90p100\n",
      "year                           \n",
      "1961         31859.1   559714.5\n",
      "1971         34794.4   625385.0\n",
      "1981         44853.9   924923.9\n",
      "1991         48700.3  1400968.4\n",
      "1995         45493.1  1476209.6\n",
      "1996         48399.8  1567005.6\n",
      "1997         51468.2  1677240.7\n",
      "1998         52617.5  1721043.0\n",
      "1999         54986.5  1805868.5\n",
      "2000         58859.6  1939729.2\n",
      "2001         59735.6  1995971.1\n",
      "2002         61073.9  2082882.1\n",
      "2003         64379.2  2128271.9\n",
      "2004         69965.3  2265363.5\n",
      "2005         75611.1  2411855.0\n",
      "2006         81633.7  2610602.2\n",
      "2007         84140.3  2904003.9\n",
      "2008         86602.3  3313140.7\n",
      "2009         87582.6  3351172.0\n",
      "2010         84762.4  3763841.7\n",
      "2011         85007.8  4223870.1\n",
      "2012         91046.6  4469097.7\n",
      "2013         92669.0  4633918.6\n",
      "2014         94903.6  5048418.6\n",
      "2015        100515.4  5372108.5\n",
      "2016        106756.5  5676270.8\n",
      "2017        111565.0  5918204.2\n",
      "2018        113138.4  6098022.1\n",
      "2019        116439.6  6213251.6\n",
      "2020        104955.8  5575285.9\n",
      "2021        116061.3  6354073.9\n"
     ]
    }
   ],
   "source": [
    "curt=curt.pivot_table(values=\"value\",columns=\"percentile\",index=\"year\")\n",
    "print(curt)"
   ]
  },
  {
   "cell_type": "markdown",
   "metadata": {},
   "source": [
    "Below picture shows the glaring inequality with respect to net personal wealth"
   ]
  },
  {
   "cell_type": "code",
   "execution_count": 29,
   "metadata": {},
   "outputs": [
    {
     "name": "stderr",
     "output_type": "stream",
     "text": [
      "C:\\Users\\Shashwat Ratna\\AppData\\Local\\Programs\\Python\\Python38-32\\lib\\site-packages\\seaborn\\_decorators.py:36: FutureWarning: Pass the following variables as keyword args: x, y. From version 0.12, the only valid positional argument will be `data`, and passing other arguments without an explicit keyword will result in an error or misinterpretation.\n",
      "  warnings.warn(\n",
      "C:\\Users\\Shashwat Ratna\\AppData\\Local\\Programs\\Python\\Python38-32\\lib\\site-packages\\seaborn\\_decorators.py:36: FutureWarning: Pass the following variables as keyword args: x, y. From version 0.12, the only valid positional argument will be `data`, and passing other arguments without an explicit keyword will result in an error or misinterpretation.\n",
      "  warnings.warn(\n"
     ]
    },
    {
     "data": {
      "image/png": "[encoded data removed]",
      "text/plain": [
       "<Figure size 864x720 with 1 Axes>"
      ]
     },
     "metadata": {},
     "output_type": "display_data"
    }
   ],
   "source": [
    "sns.lineplot(\"year\",\"p0p50\",data=curt);\n",
    "sns.lineplot(\"year\",\"p90p100\",data=curt);\n",
    "plt.tight_layout;\n",
    "plt.legend(title=\"Groups\",labels=[\"Bottom Half (0-50)\",\"Top decile(90-100)\"]);\n",
    "plt.ylabel(\"Net Personal Wealth (Current Local,Rs)\");\n",
    "plt.xlabel(\"Year\");\n",
    "fig=plt.gcf();\n",
    "fig.set_size_inches(12,10);\n"
   ]
  },
  {
   "cell_type": "code",
   "execution_count": 36,
   "metadata": {},
   "outputs": [
    {
     "name": "stderr",
     "output_type": "stream",
     "text": [
      "C:\\Users\\Shashwat Ratna\\AppData\\Local\\Programs\\Python\\Python38-32\\lib\\site-packages\\seaborn\\_decorators.py:36: FutureWarning: Pass the following variables as keyword args: x, y. From version 0.12, the only valid positional argument will be `data`, and passing other arguments without an explicit keyword will result in an error or misinterpretation.\n",
      "  warnings.warn(\n"
     ]
    },
    {
     "data": {
      "text/plain": [
       "<matplotlib.legend.Legend at 0x1de9e298>"
      ]
     },
     "execution_count": 36,
     "metadata": {},
     "output_type": "execute_result"
    },
    {
     "data": {
      "image/png": "[encoded data removed]",
      "text/plain": [
       "<Figure size 432x288 with 1 Axes>"
      ]
     },
     "metadata": {},
     "output_type": "display_data"
    }
   ],
   "source": [
    "sns.lineplot(\"year\",\"p0p50\",data=curt);\n",
    "plt.ylabel(\"Net Personal Wealth (Current Local,Rs)\")\n",
    "plt.legend(labels=[\"Bottom Half(0th to 50th Percentile)\"])"
   ]
  },
  {
   "cell_type": "markdown",
   "metadata": {},
   "source": []
  }
 ],
 "metadata": {
  "interpreter": {
   "hash": "a154df81e3274ccdb8439b563f2dda1730f3366c0b91a311198452ad90c14d4f"
  },
  "kernelspec": {
   "display_name": "Python 3.8.2 32-bit",
   "name": "python3"
  },
  "language_info": {
   "codemirror_mode": {
    "name": "ipython",
    "version": 3
   },
   "file_extension": ".py",
   "mimetype": "text/x-python",
   "name": "python",
   "nbconvert_exporter": "python",
   "pygments_lexer": "ipython3",
   "version": "3.8.2"
  },
  "orig_nbformat": 4
 },
 "nbformat": 4,
 "nbformat_minor": 2
}
